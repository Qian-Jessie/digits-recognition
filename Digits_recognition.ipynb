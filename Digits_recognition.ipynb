{
 "cells": [
  {
   "cell_type": "code",
   "execution_count": 46,
   "metadata": {},
   "outputs": [],
   "source": [
    "%matplotlib inline\n",
    "import numpy as np\n",
    "from keras.datasets import mnist\n",
    "from keras.models import Sequential\n",
    "from keras.layers import Dense, Dropout\n",
    "from keras.utils import np_utils\n",
    "import matplotlib.pyplot as plt"
   ]
  },
  {
   "cell_type": "code",
   "execution_count": 47,
   "metadata": {
    "collapsed": true
   },
   "outputs": [],
   "source": [
    "# load data from MNIST\n",
    "(X_train, y_train), (X_test, y_test) = mnist.load_data()"
   ]
  },
  {
   "cell_type": "code",
   "execution_count": 48,
   "metadata": {},
   "outputs": [
    {
     "name": "stdout",
     "output_type": "stream",
     "text": [
      "(10000, 28, 28)\n"
     ]
    }
   ],
   "source": [
    "# save X_test for later comparision \n",
    "X_plot = X_test\n",
    "print X_test.shape"
   ]
  },
  {
   "cell_type": "code",
   "execution_count": 49,
   "metadata": {},
   "outputs": [],
   "source": [
    "# flatten 28*28 images to a 784 vector for each image\n",
    "num_pixels = X_train.shape[1] * X_train.shape[2]\n",
    "X_train = X_train.reshape(X_train.shape[0], num_pixels).astype('float32')\n",
    "X_test = X_test.reshape(X_test.shape[0], num_pixels).astype('float32')\n"
   ]
  },
  {
   "cell_type": "code",
   "execution_count": 50,
   "metadata": {
    "collapsed": true
   },
   "outputs": [],
   "source": [
    "#An RGB color value is specified with: rgb(red, green, blue). \n",
    "#Each parameter (red, green, and blue) defines the intensity of the color as an integer between 0 and 255.\n",
    "# normalize inputs from 0-255 to 0-1\n",
    "X_train = X_train / 255\n",
    "X_test = X_test / 255"
   ]
  },
  {
   "cell_type": "code",
   "execution_count": 51,
   "metadata": {},
   "outputs": [
    {
     "name": "stdout",
     "output_type": "stream",
     "text": [
      "10\n"
     ]
    }
   ],
   "source": [
    "y_train = np_utils.to_categorical(y_train)\n",
    "y_test = np_utils.to_categorical(y_test)\n",
    "num_classes = y_test.shape[1]\n",
    "print num_classes\n",
    "#0 0 1 0 0 0 0 0 0 0 "
   ]
  },
  {
   "cell_type": "code",
   "execution_count": 52,
   "metadata": {
    "collapsed": true
   },
   "outputs": [],
   "source": [
    "# Define a sequential model\n",
    "\n",
    "def baseline_model():\n",
    "    # create model\n",
    "    model = Sequential()\n",
    "    # add CNN input layers\n",
    "    model.add(Dense(output_dim=num_pixels, input_dim=num_pixels, init='normal', activation='relu'))\n",
    "    model.add(Dense(output_dim=num_classes, init='normal', activation='softmax'))\n",
    "    # Compile model\n",
    "    model.compile(loss='categorical_crossentropy', optimizer='adam', metrics=['accuracy'])\n",
    "    return model"
   ]
  },
  {
   "cell_type": "code",
   "execution_count": 53,
   "metadata": {},
   "outputs": [
    {
     "name": "stderr",
     "output_type": "stream",
     "text": [
      "/Users/qian/Program/anaconda/envs/mypython2.7/lib/python2.7/site-packages/ipykernel_launcher.py:7: UserWarning: Update your `Dense` call to the Keras 2 API: `Dense(kernel_initializer=\"normal\", activation=\"relu\", input_dim=784, units=784)`\n",
      "  import sys\n",
      "/Users/qian/Program/anaconda/envs/mypython2.7/lib/python2.7/site-packages/ipykernel_launcher.py:8: UserWarning: Update your `Dense` call to the Keras 2 API: `Dense(units=10, activation=\"softmax\", kernel_initializer=\"normal\")`\n",
      "  \n"
     ]
    },
    {
     "name": "stdout",
     "output_type": "stream",
     "text": [
      "Train on 60000 samples, validate on 10000 samples\n",
      "Epoch 1/10\n",
      "5s - loss: 0.2781 - acc: 0.9217 - val_loss: 0.1353 - val_acc: 0.9601\n",
      "Epoch 2/10\n",
      "5s - loss: 0.1110 - acc: 0.9680 - val_loss: 0.1077 - val_acc: 0.9684\n",
      "Epoch 3/10\n",
      "5s - loss: 0.0712 - acc: 0.9798 - val_loss: 0.0862 - val_acc: 0.9719\n",
      "Epoch 4/10\n",
      "5s - loss: 0.0506 - acc: 0.9853 - val_loss: 0.0680 - val_acc: 0.9789\n",
      "Epoch 5/10\n",
      "5s - loss: 0.0366 - acc: 0.9896 - val_loss: 0.0655 - val_acc: 0.9793\n",
      "Epoch 6/10\n",
      "5s - loss: 0.0262 - acc: 0.9931 - val_loss: 0.0595 - val_acc: 0.9809\n",
      "Epoch 7/10\n",
      "5s - loss: 0.0194 - acc: 0.9952 - val_loss: 0.0631 - val_acc: 0.9803\n",
      "Epoch 8/10\n",
      "6s - loss: 0.0149 - acc: 0.9964 - val_loss: 0.0599 - val_acc: 0.9813\n",
      "Epoch 9/10\n",
      "5s - loss: 0.0113 - acc: 0.9976 - val_loss: 0.0644 - val_acc: 0.9806\n",
      "Epoch 10/10\n",
      "5s - loss: 0.0076 - acc: 0.9989 - val_loss: 0.0583 - val_acc: 0.9812\n",
      "Baseline Error: 1.88%\n"
     ]
    }
   ],
   "source": [
    "# build the model\n",
    "model = baseline_model()\n",
    "\n",
    "# Fit the model\n",
    "model.fit(X_train, y_train, validation_data=(X_test, y_test), nb_epoch=10, batch_size=200, verbose=2)\n",
    "\n",
    "# Final evaluation of the model\n",
    "scores = model.evaluate(X_test, y_test, verbose=0)\n",
    "print(\"Baseline Error: %.2f%%\" % (100-scores[1]*100))"
   ]
  },
  {
   "cell_type": "code",
   "execution_count": 54,
   "metadata": {},
   "outputs": [
    {
     "name": "stdout",
     "output_type": "stream",
     "text": [
      " 9504/10000 [===========================>..] - ETA: 0s[ 115  115  149  149  247  247  321  321  340  340  445  445  495  495  582\n",
      "  582  659  659  684  684  720  720  813  813  846  846  947  947  951  951\n",
      "  956  956  965  965 1014 1014 1039 1039 1112 1112 1156 1156 1181 1181 1226\n",
      " 1226 1232 1232 1242 1242 1247 1247 1260 1260 1299 1299 1319 1319 1328 1328\n",
      " 1393 1393 1395 1395 1494 1494 1496 1496 1500 1500 1522 1522 1530 1530 1549\n",
      " 1549 1609 1609 1621 1621 1678 1678 1681 1681 1790 1790 1800 1800 1901 1901\n",
      " 1941 1941 1982 1982 2004 2004 2024 2024 2033 2033 2035 2035 2053 2053 2070\n",
      " 2070 2109 2109 2118 2118 2135 2135 2182 2182 2189 2189 2224 2224 2272 2272\n",
      " 2293 2293 2329 2329 2387 2387 2406 2406 2414 2414 2426 2426 2488 2488 2607\n",
      " 2607 2648 2648 2654 2654 2863 2863 2896 2896 2915 2915 2921 2921 2939 2939\n",
      " 2953 2953 3005 3005 3030 3030 3073 3073 3117 3117 3225 3225 3289 3289 3422\n",
      " 3422 3474 3474 3503 3503 3520 3520 3558 3558 3567 3567 3597 3597 3727 3727\n",
      " 3751 3751 3757 3757 3780 3780 3796 3796 3808 3808 3838 3838 3853 3853 3893\n",
      " 3893 3906 3906 3941 3941 3943 3943 3976 3976 3985 3985 4007 4007 4027 4027\n",
      " 4065 4065 4075 4075 4078 4078 4176 4176 4199 4199 4248 4248 4289 4289 4294\n",
      " 4294 4369 4369 4425 4425 4443 4443 4497 4497 4500 4500 4534 4534 4536 4536\n",
      " 4547 4547 4551 4551 4578 4578 4740 4740 4761 4761 4807 4807 4823 4823 4880\n",
      " 4880 4942 4942 4956 4956 4966 4966 5078 5078 5331 5331 5600 5600 5642 5642\n",
      " 5676 5676 5734 5734 5858 5858 5887 5887 5936 5936 5937 5937 5955 5955 5972\n",
      " 5972 5973 5973 5981 5981 5982 5982 5997 5997 6009 6009 6011 6011 6023 6023\n",
      " 6045 6045 6046 6046 6059 6059 6166 6166 6555 6555 6574 6574 6576 6576 6597\n",
      " 6597 6625 6625 6651 6651 6755 6755 6847 6847 7216 7216 7921 7921 8059 8059\n",
      " 8062 8062 8094 8094 8246 8246 8277 8277 8311 8311 8325 8325 8522 8522 8527\n",
      " 8527 9009 9009 9015 9015 9024 9024 9280 9280 9587 9587 9634 9634 9664 9664\n",
      " 9679 9679 9700 9700 9729 9729 9745 9745 9749 9749 9770 9770 9808 9808 9839\n",
      " 9839]\n"
     ]
    }
   ],
   "source": [
    "#print the indices of failed recognitions\n",
    "predicted_cls = model.predict_classes(X_test)\n",
    "one_hot = np_utils.to_categorical(predicted_cls)\n",
    "indices = np.where(y_test != one_hot)[0]\n",
    "print indices"
   ]
  },
  {
   "cell_type": "code",
   "execution_count": 55,
   "metadata": {},
   "outputs": [
    {
     "name": "stdout",
     "output_type": "stream",
     "text": [
      "('predicted: ', 9)\n",
      "('actual: ', 7)\n"
     ]
    },
    {
     "data": {
      "image/png": "[encoded data removed]",
      "text/plain": [
       "<matplotlib.figure.Figure at 0x119f45690>"
      ]
     },
     "metadata": {},
     "output_type": "display_data"
    },
    {
     "name": "stdout",
     "output_type": "stream",
     "text": [
      "('predicted: ', 9)\n",
      "('actual: ', 7)\n"
     ]
    },
    {
     "data": {
      "image/png": "[encoded data removed]",
      "text/plain": [
       "<matplotlib.figure.Figure at 0x118246e10>"
      ]
     },
     "metadata": {},
     "output_type": "display_data"
    },
    {
     "name": "stdout",
     "output_type": "stream",
     "text": [
      "('predicted: ', 9)\n",
      "('actual: ', 7)\n"
     ]
    },
    {
     "data": {
      "image/png": "[encoded data removed]",
      "text/plain": [
       "<matplotlib.figure.Figure at 0x1191e0f90>"
      ]
     },
     "metadata": {},
     "output_type": "display_data"
    },
    {
     "name": "stdout",
     "output_type": "stream",
     "text": [
      "('predicted: ', 9)\n",
      "('actual: ', 7)\n"
     ]
    },
    {
     "data": {
      "image/png": "[encoded data removed]",
      "text/plain": [
       "<matplotlib.figure.Figure at 0x114d53a90>"
      ]
     },
     "metadata": {},
     "output_type": "display_data"
    },
    {
     "name": "stdout",
     "output_type": "stream",
     "text": [
      "('predicted: ', 2)\n",
      "('actual: ', 7)\n"
     ]
    },
    {
     "data": {
      "image/png": "[encoded data removed]",
      "text/plain": [
       "<matplotlib.figure.Figure at 0x11cd26a10>"
      ]
     },
     "metadata": {},
     "output_type": "display_data"
    },
    {
     "name": "stdout",
     "output_type": "stream",
     "text": [
      "('predicted: ', 2)\n",
      "('actual: ', 7)\n"
     ]
    },
    {
     "data": {
      "image/png": "[encoded data removed]",
      "text/plain": [
       "<matplotlib.figure.Figure at 0x1190ba8d0>"
      ]
     },
     "metadata": {},
     "output_type": "display_data"
    },
    {
     "name": "stdout",
     "output_type": "stream",
     "text": [
      "('predicted: ', 7)\n",
      "('actual: ', 7)\n"
     ]
    },
    {
     "data": {
      "image/png": "[encoded data removed]",
      "text/plain": [
       "<matplotlib.figure.Figure at 0x1182efb90>"
      ]
     },
     "metadata": {},
     "output_type": "display_data"
    },
    {
     "name": "stdout",
     "output_type": "stream",
     "text": [
      "('predicted: ', 7)\n",
      "('actual: ', 7)\n"
     ]
    },
    {
     "data": {
      "image/png": "[encoded data removed]",
      "text/plain": [
       "<matplotlib.figure.Figure at 0x11a08dd10>"
      ]
     },
     "metadata": {},
     "output_type": "display_data"
    },
    {
     "name": "stdout",
     "output_type": "stream",
     "text": [
      "('predicted: ', 3)\n",
      "('actual: ', 7)\n"
     ]
    },
    {
     "data": {
      "image/png": "[encoded data removed]",
      "text/plain": [
       "<matplotlib.figure.Figure at 0x11cd28450>"
      ]
     },
     "metadata": {},
     "output_type": "display_data"
    },
    {
     "name": "stdout",
     "output_type": "stream",
     "text": [
      "('predicted: ', 3)\n",
      "('actual: ', 7)\n"
     ]
    },
    {
     "data": {
      "image/png": "[encoded data removed]",
      "text/plain": [
       "<matplotlib.figure.Figure at 0x11ccdfb90>"
      ]
     },
     "metadata": {},
     "output_type": "display_data"
    }
   ],
   "source": [
    "# plot the failed recognitions\n",
    "for i in indices[0:10]:\n",
    "    plt.imshow(X_plot[i])\n",
    "    print(\"predicted: \", predicted_cls[i])\n",
    "    print(\"actual: \",np.where(y_test[0]==1)[0][0]) \n",
    "    plt.show()"
   ]
  },
  {
   "cell_type": "code",
   "execution_count": null,
   "metadata": {
    "collapsed": true
   },
   "outputs": [],
   "source": []
  },
  {
   "cell_type": "code",
   "execution_count": null,
   "metadata": {
    "collapsed": true
   },
   "outputs": [],
   "source": []
  }
 ],
 "metadata": {
  "kernelspec": {
   "display_name": "Python 2",
   "language": "python",
   "name": "python2"
  },
  "language_info": {
   "codemirror_mode": {
    "name": "ipython",
    "version": 2
   },
   "file_extension": ".py",
   "mimetype": "text/x-python",
   "name": "python",
   "nbconvert_exporter": "python",
   "pygments_lexer": "ipython2",
   "version": "2.7.13"
  }
 },
 "nbformat": 4,
 "nbformat_minor": 2
}
