{
 "cells": [
  {
   "cell_type": "code",
   "execution_count": 56,
   "metadata": {},
   "outputs": [],
   "source": [
    "%matplotlib inline\n",
    "import numpy as np\n",
    "from keras.datasets import mnist\n",
    "from keras.models import Sequential\n",
    "from keras.layers import Dense, Dropout\n",
    "from keras.utils import np_utils\n",
    "import matplotlib.pyplot as plt"
   ]
  },
  {
   "cell_type": "code",
   "execution_count": 57,
   "metadata": {
    "collapsed": true
   },
   "outputs": [],
   "source": [
    "# load data from MNIST\n",
    "(X_train, y_train), (X_test, y_test) = mnist.load_data()"
   ]
  },
  {
   "cell_type": "code",
   "execution_count": 58,
   "metadata": {},
   "outputs": [
    {
     "name": "stdout",
     "output_type": "stream",
     "text": [
      "(10000, 28, 28)\n"
     ]
    }
   ],
   "source": [
    "# save X_test for later comparision \n",
    "X_plot = X_test\n",
    "print X_test.shape"
   ]
  },
  {
   "cell_type": "code",
   "execution_count": 59,
   "metadata": {},
   "outputs": [],
   "source": [
    "# flatten 28*28 images to a 784 vector for each image\n",
    "num_pixels = X_train.shape[1] * X_train.shape[2]\n",
    "X_train = X_train.reshape(X_train.shape[0], num_pixels).astype('float32')\n",
    "X_test = X_test.reshape(X_test.shape[0], num_pixels).astype('float32')\n"
   ]
  },
  {
   "cell_type": "code",
   "execution_count": 60,
   "metadata": {
    "collapsed": true
   },
   "outputs": [],
   "source": [
    "#An RGB color value is specified with: rgb(red, green, blue). \n",
    "#Each parameter (red, green, and blue) defines the intensity of the color as an integer between 0 and 255.\n",
    "# normalize inputs from 0-255 to 0-1\n",
    "X_train = X_train / 255\n",
    "X_test = X_test / 255"
   ]
  },
  {
   "cell_type": "code",
   "execution_count": 61,
   "metadata": {},
   "outputs": [
    {
     "name": "stdout",
     "output_type": "stream",
     "text": [
      "10\n"
     ]
    }
   ],
   "source": [
    "y_train = np_utils.to_categorical(y_train)\n",
    "y_test = np_utils.to_categorical(y_test)\n",
    "num_classes = y_test.shape[1]\n",
    "print num_classes\n",
    "#0 0 1 0 0 0 0 0 0 0 "
   ]
  },
  {
   "cell_type": "code",
   "execution_count": 62,
   "metadata": {
    "collapsed": true
   },
   "outputs": [],
   "source": [
    "# Define a sequential model\n",
    "\n",
    "def baseline_model():\n",
    "    # create model\n",
    "    model = Sequential()\n",
    "    # add CNN input layers\n",
    "    model.add(Dense(output_dim=num_pixels, input_dim=num_pixels, init='normal', activation='relu'))\n",
    "    model.add(Dense(output_dim=num_classes, init='normal', activation='softmax'))\n",
    "    # Compile model\n",
    "    model.compile(loss='categorical_crossentropy', optimizer='adam', metrics=['accuracy'])\n",
    "    return model"
   ]
  },
  {
   "cell_type": "code",
   "execution_count": 63,
   "metadata": {},
   "outputs": [
    {
     "name": "stderr",
     "output_type": "stream",
     "text": [
      "/Users/qian/Program/anaconda/envs/mypython2.7/lib/python2.7/site-packages/ipykernel_launcher.py:7: UserWarning: Update your `Dense` call to the Keras 2 API: `Dense(kernel_initializer=\"normal\", activation=\"relu\", input_dim=784, units=784)`\n",
      "  import sys\n",
      "/Users/qian/Program/anaconda/envs/mypython2.7/lib/python2.7/site-packages/ipykernel_launcher.py:8: UserWarning: Update your `Dense` call to the Keras 2 API: `Dense(units=10, activation=\"softmax\", kernel_initializer=\"normal\")`\n",
      "  \n"
     ]
    },
    {
     "name": "stdout",
     "output_type": "stream",
     "text": [
      "Train on 60000 samples, validate on 10000 samples\n",
      "Epoch 1/10\n",
      "5s - loss: 0.2766 - acc: 0.9216 - val_loss: 0.1418 - val_acc: 0.9586\n",
      "Epoch 2/10\n",
      "5s - loss: 0.1097 - acc: 0.9683 - val_loss: 0.0899 - val_acc: 0.9729\n",
      "Epoch 3/10\n",
      "5s - loss: 0.0692 - acc: 0.9803 - val_loss: 0.0790 - val_acc: 0.9741\n",
      "Epoch 4/10\n",
      "4s - loss: 0.0484 - acc: 0.9866 - val_loss: 0.0701 - val_acc: 0.9783\n",
      "Epoch 5/10\n",
      "1s - loss: 0.0368 - acc: 0.9898 - val_loss: 0.0633 - val_acc: 0.9788\n",
      "Epoch 6/10\n",
      "4s - loss: 0.0260 - acc: 0.9932 - val_loss: 0.0634 - val_acc: 0.9809\n",
      "Epoch 7/10\n",
      "4s - loss: 0.0195 - acc: 0.9946 - val_loss: 0.0622 - val_acc: 0.9803\n",
      "Epoch 8/10\n",
      "4s - loss: 0.0148 - acc: 0.9964 - val_loss: 0.0610 - val_acc: 0.9817\n",
      "Epoch 9/10\n",
      "4s - loss: 0.0109 - acc: 0.9979 - val_loss: 0.0619 - val_acc: 0.9807\n",
      "Epoch 10/10\n",
      "4s - loss: 0.0075 - acc: 0.9987 - val_loss: 0.0579 - val_acc: 0.9826\n",
      "Baseline Error: 1.74%\n"
     ]
    }
   ],
   "source": [
    "# build the model\n",
    "model = baseline_model()\n",
    "\n",
    "# Fit the model\n",
    "model.fit(X_train, y_train, validation_data=(X_test, y_test), nb_epoch=10, batch_size=200, verbose=2)\n",
    "\n",
    "# Final evaluation of the model\n",
    "scores = model.evaluate(X_test, y_test, verbose=0)\n",
    "print(\"Baseline Error: %.2f%%\" % (100-scores[1]*100))"
   ]
  },
  {
   "cell_type": "code",
   "execution_count": 64,
   "metadata": {},
   "outputs": [
    {
     "name": "stdout",
     "output_type": "stream",
     "text": [
      " 9792/10000 [============================>.] - ETA: 0s[ 149  149  247  247  321  321  340  340  381  381  445  445  449  449  495\n",
      "  495  582  582  583  583  619  619  691  691  717  717  720  720  877  877\n",
      "  938  938  947  947  951  951 1014 1014 1039 1039 1112 1112 1128 1128 1156\n",
      " 1156 1182 1182 1224 1224 1226 1226 1232 1232 1242 1242 1247 1247 1319 1319\n",
      " 1326 1326 1328 1328 1337 1337 1393 1393 1395 1395 1444 1444 1494 1494 1522\n",
      " 1522 1530 1530 1531 1531 1549 1549 1609 1609 1621 1621 1681 1681 1709 1709\n",
      " 1717 1717 1790 1790 1828 1828 1901 1901 1941 1941 1984 1984 1987 1987 2004\n",
      " 2004 2053 2053 2098 2098 2109 2109 2118 2118 2130 2130 2182 2182 2272 2272\n",
      " 2293 2293 2369 2369 2387 2387 2433 2433 2488 2488 2582 2582 2618 2618 2648\n",
      " 2648 2654 2654 2730 2730 2877 2877 2927 2927 2939 2939 2953 2953 3062 3062\n",
      " 3073 3073 3117 3117 3172 3172 3251 3251 3289 3289 3384 3384 3405 3405 3422\n",
      " 3422 3451 3451 3503 3503 3520 3520 3558 3558 3559 3559 3567 3567 3597 3597\n",
      " 3681 3681 3718 3718 3727 3727 3780 3780 3796 3796 3808 3808 3818 3818 3853\n",
      " 3853 3893 3893 3906 3906 3941 3941 3943 3943 3995 3995 4065 4065 4078 4078\n",
      " 4176 4176 4199 4199 4201 4201 4248 4248 4289 4289 4497 4497 4536 4536 4601\n",
      " 4601 4639 4639 4731 4731 4740 4740 4761 4761 4807 4807 4823 4823 4879 4879\n",
      " 4880 4880 4956 4956 5331 5331 5457 5457 5642 5642 5676 5676 5734 5734 5936\n",
      " 5936 5955 5955 5973 5973 6009 6009 6011 6011 6023 6023 6059 6059 6166 6166\n",
      " 6532 6532 6555 6555 6571 6571 6574 6574 6597 6597 6625 6625 6783 6783 6847\n",
      " 6847 7216 7216 7434 7434 7800 7800 7821 7821 7928 7928 8059 8059 8062 8062\n",
      " 8094 8094 8246 8246 8325 8325 8408 8408 8522 8522 8527 8527 9009 9009 9015\n",
      " 9015 9024 9024 9280 9280 9587 9587 9664 9664 9679 9679 9692 9692 9698 9698\n",
      " 9700 9700 9729 9729 9745 9745 9749 9749 9768 9768 9770 9770 9792 9792 9808\n",
      " 9808 9839 9839]\n"
     ]
    }
   ],
   "source": [
    "#print the indices of failed recognitions\n",
    "predicted_cls = model.predict_classes(X_test)\n",
    "one_hot = np_utils.to_categorical(predicted_cls)\n",
    "indices = np.where(y_test != one_hot)[0]\n",
    "print indices"
   ]
  },
  {
   "cell_type": "code",
   "execution_count": 67,
   "metadata": {},
   "outputs": [
    {
     "name": "stdout",
     "output_type": "stream",
     "text": [
      "('predicted: ', 9)\n",
      "('actual: ', 2)\n"
     ]
    },
    {
     "data": {
      "image/png": "[encoded data removed]",
      "text/plain": [
       "<matplotlib.figure.Figure at 0x118a2b710>"
      ]
     },
     "metadata": {},
     "output_type": "display_data"
    },
    {
     "name": "stdout",
     "output_type": "stream",
     "text": [
      "('predicted: ', 9)\n",
      "('actual: ', 2)\n"
     ]
    },
    {
     "data": {
      "image/png": "[encoded data removed]",
      "text/plain": [
       "<matplotlib.figure.Figure at 0x1195b7750>"
      ]
     },
     "metadata": {},
     "output_type": "display_data"
    },
    {
     "name": "stdout",
     "output_type": "stream",
     "text": [
      "('predicted: ', 2)\n",
      "('actual: ', 4)\n"
     ]
    },
    {
     "data": {
      "image/png": "[encoded data removed]",
      "text/plain": [
       "<matplotlib.figure.Figure at 0x119688850>"
      ]
     },
     "metadata": {},
     "output_type": "display_data"
    },
    {
     "name": "stdout",
     "output_type": "stream",
     "text": [
      "('predicted: ', 2)\n",
      "('actual: ', 4)\n"
     ]
    },
    {
     "data": {
      "image/png": "[encoded data removed]",
      "text/plain": [
       "<matplotlib.figure.Figure at 0x1195cde90>"
      ]
     },
     "metadata": {},
     "output_type": "display_data"
    },
    {
     "name": "stdout",
     "output_type": "stream",
     "text": [
      "('predicted: ', 7)\n",
      "('actual: ', 2)\n"
     ]
    },
    {
     "data": {
      "image/png": "[encoded data removed]",
      "text/plain": [
       "<matplotlib.figure.Figure at 0x119688f90>"
      ]
     },
     "metadata": {},
     "output_type": "display_data"
    },
    {
     "name": "stdout",
     "output_type": "stream",
     "text": [
      "('predicted: ', 7)\n",
      "('actual: ', 2)\n"
     ]
    },
    {
     "data": {
      "image/png": "[encoded data removed]",
      "text/plain": [
       "<matplotlib.figure.Figure at 0x1195c44d0>"
      ]
     },
     "metadata": {},
     "output_type": "display_data"
    },
    {
     "name": "stdout",
     "output_type": "stream",
     "text": [
      "('predicted: ', 3)\n",
      "('actual: ', 5)\n"
     ]
    },
    {
     "data": {
      "image/png": "[encoded data removed]",
      "text/plain": [
       "<matplotlib.figure.Figure at 0x11a738350>"
      ]
     },
     "metadata": {},
     "output_type": "display_data"
    },
    {
     "name": "stdout",
     "output_type": "stream",
     "text": [
      "('predicted: ', 3)\n",
      "('actual: ', 5)\n"
     ]
    },
    {
     "data": {
      "image/png": "[encoded data removed]",
      "text/plain": [
       "<matplotlib.figure.Figure at 0x11d4c9d10>"
      ]
     },
     "metadata": {},
     "output_type": "display_data"
    },
    {
     "name": "stdout",
     "output_type": "stream",
     "text": [
      "('predicted: ', 7)\n",
      "('actual: ', 3)\n"
     ]
    },
    {
     "data": {
      "image/png": "[encoded data removed]",
      "text/plain": [
       "<matplotlib.figure.Figure at 0x11d601650>"
      ]
     },
     "metadata": {},
     "output_type": "display_data"
    },
    {
     "name": "stdout",
     "output_type": "stream",
     "text": [
      "('predicted: ', 7)\n",
      "('actual: ', 3)\n"
     ]
    },
    {
     "data": {
      "image/png": "[encoded data removed]",
      "text/plain": [
       "<matplotlib.figure.Figure at 0x11d4c9d90>"
      ]
     },
     "metadata": {},
     "output_type": "display_data"
    }
   ],
   "source": [
    "# plot the failed recognitions\n",
    "for i in indices[0:10]:\n",
    "    plt.imshow(X_plot[i])\n",
    "    print(\"predicted: \", predicted_cls[i])\n",
    "    print(\"actual: \",np.where(y_test[i]==1)[0][0]) \n",
    "    plt.show()"
   ]
  },
  {
   "cell_type": "code",
   "execution_count": null,
   "metadata": {
    "collapsed": true
   },
   "outputs": [],
   "source": []
  },
  {
   "cell_type": "code",
   "execution_count": null,
   "metadata": {
    "collapsed": true
   },
   "outputs": [],
   "source": []
  },
  {
   "cell_type": "code",
   "execution_count": null,
   "metadata": {
    "collapsed": true
   },
   "outputs": [],
   "source": []
  },
  {
   "cell_type": "code",
   "execution_count": null,
   "metadata": {
    "collapsed": true
   },
   "outputs": [],
   "source": []
  },
  {
   "cell_type": "code",
   "execution_count": null,
   "metadata": {
    "collapsed": true
   },
   "outputs": [],
   "source": []
  },
  {
   "cell_type": "code",
   "execution_count": null,
   "metadata": {
    "collapsed": true
   },
   "outputs": [],
   "source": []
  },
  {
   "cell_type": "code",
   "execution_count": null,
   "metadata": {
    "collapsed": true
   },
   "outputs": [],
   "source": []
  },
  {
   "cell_type": "code",
   "execution_count": null,
   "metadata": {
    "collapsed": true
   },
   "outputs": [],
   "source": []
  },
  {
   "cell_type": "code",
   "execution_count": null,
   "metadata": {
    "collapsed": true
   },
   "outputs": [],
   "source": []
  },
  {
   "cell_type": "code",
   "execution_count": null,
   "metadata": {
    "collapsed": true
   },
   "outputs": [],
   "source": []
  }
 ],
 "metadata": {
  "kernelspec": {
   "display_name": "Python 2",
   "language": "python",
   "name": "python2"
  },
  "language_info": {
   "codemirror_mode": {
    "name": "ipython",
    "version": 2
   },
   "file_extension": ".py",
   "mimetype": "text/x-python",
   "name": "python",
   "nbconvert_exporter": "python",
   "pygments_lexer": "ipython2",
   "version": "2.7.13"
  }
 },
 "nbformat": 4,
 "nbformat_minor": 2
}
